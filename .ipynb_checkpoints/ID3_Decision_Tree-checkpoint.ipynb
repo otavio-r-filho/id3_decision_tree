{
 "cells": [
  {
   "cell_type": "markdown",
   "metadata": {
    "colab_type": "text",
    "id": "T18jOxVMNNoY"
   },
   "source": [
    "# ID3 Decision Tree\n",
    "\n",
    "<center><img src=\"https://i0.wp.com/dataaspirant.com/wp-content/uploads/2017/01/B03905_05_01-compressor.png?resize=768%2C424\" width=50%></center>\n",
    "\n",
    "## The ID3 Algorithm\n",
    "\n",
    "### Entropy\n",
    "\n",
    "**Entropy:** *a thermodynamic quantity representing the unavailability of a system's thermal energy for conversion into mechanical work, often interpreted as the degree of disorder or randomness in the system.*\n",
    "\n",
    "$$\n",
    "Entropy(S) = \\sum_{i=1}^{c} -p_{i}\\log2(p_{i})\n",
    "$$\n",
    "\n",
    "### Information Gain\n",
    "\n",
    "- The information gain must be calculated for each feature in the set $S$;\n",
    "- The feature with the highest information gain is selected to be the test feature;\n",
    "- The information gain refers to the expected entropy reduction as the dataset is being partitioned.\n",
    "\n",
    "$$\n",
    "Information Gain(S, F) \\equiv Entropy(S) - \\sum_{f \\in Features(F)} \\frac{|Sv|}{|S|} Entropy(Sv)\n",
    "$$\n",
    "\n",
    "## Implementation\n",
    "\n",
    "### Import libraries"
   ]
  },
  {
   "cell_type": "code",
   "execution_count": 1,
   "metadata": {
    "colab": {
     "base_uri": "https://localhost:8080/",
     "height": 388
    },
    "colab_type": "code",
    "id": "EX8dJREyK-Xu",
    "outputId": "c5727188-cb84-4ba7-e9e7-1040bce8edee"
   },
   "outputs": [],
   "source": [
    "from igraph import *\n",
    "import numpy as np\n",
    "import matplotlib.pyplot as plt\n",
    "import pandas as pd\n",
    "%matplotlib inline"
   ]
  },
  {
   "cell_type": "markdown",
   "metadata": {
    "colab_type": "text",
    "id": "BT8rn2PbNlv2"
   },
   "source": [
    "### Importing and visualizing the dataset"
   ]
  },
  {
   "cell_type": "code",
   "execution_count": 2,
   "metadata": {
    "colab": {
     "base_uri": "https://localhost:8080/",
     "height": 534
    },
    "colab_type": "code",
    "id": "qlGnAXFZNsCW",
    "outputId": "2e12efa9-5888-4ade-9e1c-ca091fb75622"
   },
   "outputs": [
    {
     "name": "stdout",
     "output_type": "stream",
     "text": [
      "Datset shape: (14, 4)\n",
      "Labels shape: (14, 1)\n",
      "\n"
     ]
    },
    {
     "data": {
      "text/html": [
       "<div>\n",
       "<style scoped>\n",
       "    .dataframe tbody tr th:only-of-type {\n",
       "        vertical-align: middle;\n",
       "    }\n",
       "\n",
       "    .dataframe tbody tr th {\n",
       "        vertical-align: top;\n",
       "    }\n",
       "\n",
       "    .dataframe thead th {\n",
       "        text-align: right;\n",
       "    }\n",
       "</style>\n",
       "<table border=\"1\" class=\"dataframe\">\n",
       "  <thead>\n",
       "    <tr style=\"text-align: right;\">\n",
       "      <th></th>\n",
       "      <th>day</th>\n",
       "      <th>weather</th>\n",
       "      <th>temperature</th>\n",
       "      <th>humidity</th>\n",
       "      <th>wind</th>\n",
       "      <th>play_tennis</th>\n",
       "    </tr>\n",
       "  </thead>\n",
       "  <tbody>\n",
       "    <tr>\n",
       "      <th>0</th>\n",
       "      <td>D1</td>\n",
       "      <td>sunny</td>\n",
       "      <td>hot</td>\n",
       "      <td>high</td>\n",
       "      <td>weak</td>\n",
       "      <td>no</td>\n",
       "    </tr>\n",
       "    <tr>\n",
       "      <th>1</th>\n",
       "      <td>D2</td>\n",
       "      <td>sunny</td>\n",
       "      <td>hot</td>\n",
       "      <td>high</td>\n",
       "      <td>strong</td>\n",
       "      <td>no</td>\n",
       "    </tr>\n",
       "    <tr>\n",
       "      <th>2</th>\n",
       "      <td>D3</td>\n",
       "      <td>cloudy</td>\n",
       "      <td>hot</td>\n",
       "      <td>high</td>\n",
       "      <td>weak</td>\n",
       "      <td>yes</td>\n",
       "    </tr>\n",
       "    <tr>\n",
       "      <th>3</th>\n",
       "      <td>D4</td>\n",
       "      <td>rain</td>\n",
       "      <td>warm</td>\n",
       "      <td>high</td>\n",
       "      <td>weak</td>\n",
       "      <td>yes</td>\n",
       "    </tr>\n",
       "    <tr>\n",
       "      <th>4</th>\n",
       "      <td>D5</td>\n",
       "      <td>rain</td>\n",
       "      <td>cold</td>\n",
       "      <td>normal</td>\n",
       "      <td>weak</td>\n",
       "      <td>yes</td>\n",
       "    </tr>\n",
       "    <tr>\n",
       "      <th>5</th>\n",
       "      <td>D6</td>\n",
       "      <td>rain</td>\n",
       "      <td>cold</td>\n",
       "      <td>normal</td>\n",
       "      <td>strong</td>\n",
       "      <td>no</td>\n",
       "    </tr>\n",
       "    <tr>\n",
       "      <th>6</th>\n",
       "      <td>D7</td>\n",
       "      <td>cloudy</td>\n",
       "      <td>cold</td>\n",
       "      <td>normal</td>\n",
       "      <td>strong</td>\n",
       "      <td>yes</td>\n",
       "    </tr>\n",
       "    <tr>\n",
       "      <th>7</th>\n",
       "      <td>D8</td>\n",
       "      <td>sunny</td>\n",
       "      <td>warm</td>\n",
       "      <td>high</td>\n",
       "      <td>weak</td>\n",
       "      <td>no</td>\n",
       "    </tr>\n",
       "    <tr>\n",
       "      <th>8</th>\n",
       "      <td>D9</td>\n",
       "      <td>sunny</td>\n",
       "      <td>cold</td>\n",
       "      <td>normal</td>\n",
       "      <td>weak</td>\n",
       "      <td>yes</td>\n",
       "    </tr>\n",
       "    <tr>\n",
       "      <th>9</th>\n",
       "      <td>D10</td>\n",
       "      <td>rain</td>\n",
       "      <td>warm</td>\n",
       "      <td>normal</td>\n",
       "      <td>weak</td>\n",
       "      <td>yes</td>\n",
       "    </tr>\n",
       "    <tr>\n",
       "      <th>10</th>\n",
       "      <td>D11</td>\n",
       "      <td>sunny</td>\n",
       "      <td>warm</td>\n",
       "      <td>normal</td>\n",
       "      <td>strong</td>\n",
       "      <td>yes</td>\n",
       "    </tr>\n",
       "    <tr>\n",
       "      <th>11</th>\n",
       "      <td>D12</td>\n",
       "      <td>cloudy</td>\n",
       "      <td>warm</td>\n",
       "      <td>high</td>\n",
       "      <td>strong</td>\n",
       "      <td>yes</td>\n",
       "    </tr>\n",
       "    <tr>\n",
       "      <th>12</th>\n",
       "      <td>D13</td>\n",
       "      <td>cloudy</td>\n",
       "      <td>hot</td>\n",
       "      <td>normal</td>\n",
       "      <td>weak</td>\n",
       "      <td>yes</td>\n",
       "    </tr>\n",
       "    <tr>\n",
       "      <th>13</th>\n",
       "      <td>D14</td>\n",
       "      <td>rain</td>\n",
       "      <td>warm</td>\n",
       "      <td>high</td>\n",
       "      <td>strong</td>\n",
       "      <td>no</td>\n",
       "    </tr>\n",
       "  </tbody>\n",
       "</table>\n",
       "</div>"
      ],
      "text/plain": [
       "    day weather temperature humidity    wind play_tennis\n",
       "0    D1   sunny         hot     high    weak          no\n",
       "1    D2   sunny         hot     high  strong          no\n",
       "2    D3  cloudy         hot     high    weak         yes\n",
       "3    D4    rain        warm     high    weak         yes\n",
       "4    D5    rain        cold   normal    weak         yes\n",
       "5    D6    rain        cold   normal  strong          no\n",
       "6    D7  cloudy        cold   normal  strong         yes\n",
       "7    D8   sunny        warm     high    weak          no\n",
       "8    D9   sunny        cold   normal    weak         yes\n",
       "9   D10    rain        warm   normal    weak         yes\n",
       "10  D11   sunny        warm   normal  strong         yes\n",
       "11  D12  cloudy        warm     high  strong         yes\n",
       "12  D13  cloudy         hot   normal    weak         yes\n",
       "13  D14    rain        warm     high  strong          no"
      ]
     },
     "execution_count": 2,
     "metadata": {},
     "output_type": "execute_result"
    }
   ],
   "source": [
    "dataset = pd.read_csv(\"datasets/play_tennis.csv\")\n",
    "\n",
    "X = dataset.iloc[:, 1:-1].values\n",
    "Y = dataset.iloc[:, -1].values.reshape((-1,1))\n",
    "\n",
    "print(\"Datset shape:\", X.shape)\n",
    "print(\"Labels shape:\", Y.shape)\n",
    "print()\n",
    "\n",
    "dataset"
   ]
  },
  {
   "cell_type": "markdown",
   "metadata": {
    "colab_type": "text",
    "id": "_YnXXX27P7MO"
   },
   "source": [
    "### Calulating the entropy of a given feature"
   ]
  },
  {
   "cell_type": "code",
   "execution_count": 3,
   "metadata": {
    "colab": {
     "base_uri": "https://localhost:8080/",
     "height": 34
    },
    "colab_type": "code",
    "id": "r4LdSFBoP5e4",
    "outputId": "caf095fc-1387-4e0d-9d0a-8d4487c1f22d"
   },
   "outputs": [
    {
     "data": {
      "text/plain": [
       "0.9402859586706309"
      ]
     },
     "execution_count": 3,
     "metadata": {},
     "output_type": "execute_result"
    }
   ],
   "source": [
    "def E(dataset, col = -1):\n",
    "  '''\n",
    "  If no column is given, this function will assume\n",
    "  that the label column will be at the end\n",
    "  '''\n",
    "  sel_func = dataset.loc if type(col) == type(\"str\") else dataset.iloc\n",
    "  probs = sel_func[:, col].value_counts(sort = False).values / sel_func[:, col].count()\n",
    "  return np.sum(-probs * np.log2(probs))\n",
    "\n",
    "E(dataset)"
   ]
  },
  {
   "cell_type": "markdown",
   "metadata": {
    "colab_type": "text",
    "id": "fx_OWulKfEim"
   },
   "source": [
    "### Calculating the information gain"
   ]
  },
  {
   "cell_type": "code",
   "execution_count": 4,
   "metadata": {
    "colab": {
     "base_uri": "https://localhost:8080/",
     "height": 493
    },
    "colab_type": "code",
    "id": "htMfCEWDAhMq",
    "outputId": "2f06be35-33bd-4858-ee72-40bac3bbb84b"
   },
   "outputs": [
    {
     "name": "stdout",
     "output_type": "stream",
     "text": [
      "Total number of rows: 14\n",
      "\n",
      "--------------------------------------------------\n",
      "Number of rows: 5\n",
      "yes/no: 2/3\n",
      "    day weather temperature humidity    wind play_tennis\n",
      "0    D1   sunny         hot     high    weak          no\n",
      "1    D2   sunny         hot     high  strong          no\n",
      "7    D8   sunny        warm     high    weak          no\n",
      "8    D9   sunny        cold   normal    weak         yes\n",
      "10  D11   sunny        warm   normal  strong         yes\n",
      "--------------------------------------------------\n",
      "Number of rows: 4\n",
      "yes/no: 4/0\n",
      "    day weather temperature humidity    wind play_tennis\n",
      "2    D3  cloudy         hot     high    weak         yes\n",
      "6    D7  cloudy        cold   normal  strong         yes\n",
      "11  D12  cloudy        warm     high  strong         yes\n",
      "12  D13  cloudy         hot   normal    weak         yes\n",
      "--------------------------------------------------\n",
      "Number of rows: 5\n",
      "yes/no: 3/2\n",
      "    day weather temperature humidity    wind play_tennis\n",
      "3    D4    rain        warm     high    weak         yes\n",
      "4    D5    rain        cold   normal    weak         yes\n",
      "5    D6    rain        cold   normal  strong          no\n",
      "9   D10    rain        warm   normal    weak         yes\n",
      "13  D14    rain        warm     high  strong          no\n"
     ]
    }
   ],
   "source": [
    "sep = \"--------------------------------------------------\"\n",
    "\n",
    "print(\"Total number of rows:\", dataset.loc[:, \"weather\"].count())\n",
    "print()\n",
    "\n",
    "print(sep)\n",
    "col_val = \"sunny\"\n",
    "nyes = dataset.loc[(dataset[\"weather\"] == col_val) & (dataset[\"play_tennis\"] == \"yes\")][\"weather\"].count()\n",
    "nrows = dataset.loc[dataset[\"weather\"] == col_val][\"weather\"].count()\n",
    "print(\"Number of rows:\", nrows)\n",
    "print(\"yes/no: {0}/{1}\".format(nyes, nrows - nyes))\n",
    "print(dataset.loc[dataset[\"weather\"] == col_val])\n",
    "print(sep)\n",
    "col_val = \"cloudy\"\n",
    "nyes = dataset.loc[(dataset[\"weather\"] == col_val) & (dataset[\"play_tennis\"] == \"yes\")][\"weather\"].count()\n",
    "nrows = dataset.loc[dataset[\"weather\"] == col_val][\"weather\"].count()\n",
    "print(\"Number of rows:\", nrows)\n",
    "print(\"yes/no: {0}/{1}\".format(nyes, nrows - nyes))\n",
    "print(dataset.loc[dataset[\"weather\"] == col_val])\n",
    "print(sep)\n",
    "col_val = \"rain\"\n",
    "nyes = dataset.loc[(dataset[\"weather\"] == col_val) & (dataset[\"play_tennis\"] == \"yes\")][\"weather\"].count()\n",
    "nrows = dataset.loc[dataset[\"weather\"] == col_val][\"weather\"].count()\n",
    "print(\"Number of rows:\", nrows)\n",
    "print(\"yes/no: {0}/{1}\".format(nyes, nrows - nyes))\n",
    "print(dataset.loc[dataset[\"weather\"] == col_val])"
   ]
  },
  {
   "cell_type": "markdown",
   "metadata": {},
   "source": [
    "### Calculating the informatio gain manually"
   ]
  },
  {
   "cell_type": "code",
   "execution_count": 7,
   "metadata": {
    "colab": {
     "base_uri": "https://localhost:8080/",
     "height": 68
    },
    "colab_type": "code",
    "id": "UX_7ajtmFzsA",
    "outputId": "1af6d767-4f7e-4260-a843-ee2b44569e51"
   },
   "outputs": [
    {
     "name": "stdout",
     "output_type": "stream",
     "text": [
      "Probs: [0.35714286 0.28571429 0.35714286]\n",
      "ESv:  [0.97095059 0.         0.97095059]\n"
     ]
    },
    {
     "data": {
      "text/plain": [
       "0.2467498197744391"
      ]
     },
     "execution_count": 7,
     "metadata": {},
     "output_type": "execute_result"
    }
   ],
   "source": [
    "nrows = dataset.loc[:, \"weather\"].count()\n",
    "probs = np.array([\n",
    "    dataset.loc[dataset[\"weather\"] == \"sunny\"][\"weather\"].count() / nrows,\n",
    "    dataset.loc[dataset[\"weather\"] == \"cloudy\"][\"weather\"].count() / nrows,\n",
    "    dataset.loc[dataset[\"weather\"] == \"rain\"][\"weather\"].count() / nrows\n",
    "])\n",
    "ESv = np.array([\n",
    "    E(dataset.loc[dataset[\"weather\"] == \"sunny\"]),\n",
    "    E(dataset.loc[dataset[\"weather\"] == \"cloudy\"]),\n",
    "    E(dataset.loc[dataset[\"weather\"] == \"rain\"])\n",
    "])\n",
    "\n",
    "print(\"Probs:\", probs)\n",
    "print(\"ESv: \", ESv)\n",
    "\n",
    "E(dataset) - np.sum(probs*ESv)"
   ]
  },
  {
   "cell_type": "markdown",
   "metadata": {},
   "source": [
    "### Defining the functions to calculating the information gain"
   ]
  },
  {
   "cell_type": "code",
   "execution_count": 8,
   "metadata": {
    "colab": {
     "base_uri": "https://localhost:8080/",
     "height": 85
    },
    "colab_type": "code",
    "id": "Z1PXDn0nfJkh",
    "outputId": "17dd7140-b272-481d-cd71-43aa034e3571"
   },
   "outputs": [
    {
     "name": "stdout",
     "output_type": "stream",
     "text": [
      "0.2467498197744391\n",
      "0.15183550136234136\n",
      "0.04812703040826927\n",
      "0.029222565658954647\n"
     ]
    }
   ],
   "source": [
    "def filter_col(dataset, col):\n",
    "  '''\n",
    "  '''\n",
    "  sel_func = dataset.loc if type(col) == type(\"str\") else dataset.iloc\n",
    "  fdss = []\n",
    "  for col_val in sel_func[:, col].unique():\n",
    "    fdss.append(sel_func[dataset[col] == col_val])\n",
    "  return fdss\n",
    "  \n",
    "def IG(dataset, col, label_col = -1):\n",
    "  '''\n",
    "  '''\n",
    "  sel_func = dataset.loc if type(col) == type(\"str\") else dataset.iloc\n",
    "  # The unique order is used to filter the columns\n",
    "  # So this will be used to to avoid unwanted sorting\n",
    "  vals = sel_func[:, col].unique()\n",
    "  probs = sel_func[:, col].value_counts(sort = \"False\")[vals].values / sel_func[:, col].count()\n",
    "  \n",
    "  Es = E(dataset)\n",
    "  \n",
    "  fdss = filter_col(dataset, col)\n",
    "  ESv = list(map(E, fdss))\n",
    "  \n",
    "  return Es - np.sum(probs * ESv)\n",
    "  \n",
    "print(IG(dataset, \"weather\"))\n",
    "print(IG(dataset, \"humidity\"))\n",
    "print(IG(dataset, \"wind\"))\n",
    "print(IG(dataset, \"temperature\"))"
   ]
  },
  {
   "cell_type": "markdown",
   "metadata": {},
   "source": [
    "### Testing the IGraph Package\n",
    "\n",
    "Testing the IGrapth package to create the following decision tree\n",
    "\n",
    "<img src=\"figures/decision_tree_model.png\" width=40%>"
   ]
  },
  {
   "cell_type": "code",
   "execution_count": null,
   "metadata": {},
   "outputs": [],
   "source": [
    "dc_graph = Graph.Tree()"
   ]
  }
 ],
 "metadata": {
  "colab": {
   "collapsed_sections": [],
   "name": "ID3 Decision Tree.ipynb",
   "provenance": [],
   "version": "0.3.2"
  },
  "kernelspec": {
   "display_name": "Python (dlpy36-tf)",
   "language": "python",
   "name": "dlpy36-tf"
  },
  "language_info": {
   "codemirror_mode": {
    "name": "ipython",
    "version": 3
   },
   "file_extension": ".py",
   "mimetype": "text/x-python",
   "name": "python",
   "nbconvert_exporter": "python",
   "pygments_lexer": "ipython3",
   "version": "3.6.8"
  }
 },
 "nbformat": 4,
 "nbformat_minor": 2
}
